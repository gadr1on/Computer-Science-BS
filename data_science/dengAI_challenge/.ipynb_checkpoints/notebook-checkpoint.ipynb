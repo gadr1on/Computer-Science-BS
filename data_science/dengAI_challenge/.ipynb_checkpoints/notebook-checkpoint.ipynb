{
 "cells": [
  {
   "cell_type": "markdown",
   "metadata": {},
   "source": [
    "## Importing Libraries"
   ]
  },
  {
   "cell_type": "code",
   "execution_count": 153,
   "metadata": {},
   "outputs": [],
   "source": [
    "import pandas as pd\n",
    "\n",
    "from warnings import filterwarnings\n",
    "filterwarnings('ignore')"
   ]
  },
  {
   "cell_type": "markdown",
   "metadata": {},
   "source": [
    "## Reading Dataframes"
   ]
  },
  {
   "cell_type": "code",
   "execution_count": 154,
   "metadata": {},
   "outputs": [],
   "source": [
    "train_features = pd.read_csv('data/dengue_features_train.csv')\n",
    "train_labels = pd.read_csv('data/dengue_labels_train.csv', usecols = ['total_cases'])\n",
    "test_features = pd.read_csv('data/dengue_features_test.csv')"
   ]
  },
  {
   "cell_type": "code",
   "execution_count": 155,
   "metadata": {},
   "outputs": [
    {
     "data": {
      "text/html": [
       "<div>\n",
       "<style scoped>\n",
       "    .dataframe tbody tr th:only-of-type {\n",
       "        vertical-align: middle;\n",
       "    }\n",
       "\n",
       "    .dataframe tbody tr th {\n",
       "        vertical-align: top;\n",
       "    }\n",
       "\n",
       "    .dataframe thead th {\n",
       "        text-align: right;\n",
       "    }\n",
       "</style>\n",
       "<table border=\"1\" class=\"dataframe\">\n",
       "  <thead>\n",
       "    <tr style=\"text-align: right;\">\n",
       "      <th></th>\n",
       "      <th>total_cases</th>\n",
       "    </tr>\n",
       "  </thead>\n",
       "  <tbody>\n",
       "    <tr>\n",
       "      <td>0</td>\n",
       "      <td>4</td>\n",
       "    </tr>\n",
       "    <tr>\n",
       "      <td>1</td>\n",
       "      <td>5</td>\n",
       "    </tr>\n",
       "    <tr>\n",
       "      <td>2</td>\n",
       "      <td>4</td>\n",
       "    </tr>\n",
       "    <tr>\n",
       "      <td>3</td>\n",
       "      <td>3</td>\n",
       "    </tr>\n",
       "    <tr>\n",
       "      <td>4</td>\n",
       "      <td>6</td>\n",
       "    </tr>\n",
       "  </tbody>\n",
       "</table>\n",
       "</div>"
      ],
      "text/plain": [
       "   total_cases\n",
       "0            4\n",
       "1            5\n",
       "2            4\n",
       "3            3\n",
       "4            6"
      ]
     },
     "execution_count": 155,
     "metadata": {},
     "output_type": "execute_result"
    }
   ],
   "source": [
    "train_labels.head()"
   ]
  },
  {
   "cell_type": "code",
   "execution_count": 156,
   "metadata": {},
   "outputs": [
    {
     "name": "stdout",
     "output_type": "stream",
     "text": [
      "<class 'pandas.core.frame.DataFrame'>\n",
      "RangeIndex: 1456 entries, 0 to 1455\n",
      "Data columns (total 1 columns):\n",
      "total_cases    1456 non-null int64\n",
      "dtypes: int64(1)\n",
      "memory usage: 11.5 KB\n"
     ]
    }
   ],
   "source": [
    "train_labels.info()"
   ]
  },
  {
   "cell_type": "markdown",
   "metadata": {},
   "source": [
    "# a. Exploratory Data Analysis"
   ]
  },
  {
   "cell_type": "markdown",
   "metadata": {},
   "source": [
    "As we are predicting total dengue cases for different cities, we split the datasets into the San Juan dataset and the Iquitos dataset, and conduct simple explanatory analysis on the datasets."
   ]
  },
  {
   "cell_type": "code",
   "execution_count": null,
   "metadata": {},
   "outputs": [],
   "source": []
  },
  {
   "cell_type": "code",
   "execution_count": 157,
   "metadata": {},
   "outputs": [
    {
     "data": {
      "text/html": [
       "<div>\n",
       "<style scoped>\n",
       "    .dataframe tbody tr th:only-of-type {\n",
       "        vertical-align: middle;\n",
       "    }\n",
       "\n",
       "    .dataframe tbody tr th {\n",
       "        vertical-align: top;\n",
       "    }\n",
       "\n",
       "    .dataframe thead th {\n",
       "        text-align: right;\n",
       "    }\n",
       "</style>\n",
       "<table border=\"1\" class=\"dataframe\">\n",
       "  <thead>\n",
       "    <tr style=\"text-align: right;\">\n",
       "      <th></th>\n",
       "      <th>total_cases</th>\n",
       "      <th>city</th>\n",
       "      <th>year</th>\n",
       "      <th>weekofyear</th>\n",
       "      <th>week_start_date</th>\n",
       "      <th>ndvi_ne</th>\n",
       "      <th>ndvi_nw</th>\n",
       "      <th>ndvi_se</th>\n",
       "      <th>ndvi_sw</th>\n",
       "      <th>precipitation_amt_mm</th>\n",
       "      <th>...</th>\n",
       "      <th>reanalysis_precip_amt_kg_per_m2</th>\n",
       "      <th>reanalysis_relative_humidity_percent</th>\n",
       "      <th>reanalysis_sat_precip_amt_mm</th>\n",
       "      <th>reanalysis_specific_humidity_g_per_kg</th>\n",
       "      <th>reanalysis_tdtr_k</th>\n",
       "      <th>station_avg_temp_c</th>\n",
       "      <th>station_diur_temp_rng_c</th>\n",
       "      <th>station_max_temp_c</th>\n",
       "      <th>station_min_temp_c</th>\n",
       "      <th>station_precip_mm</th>\n",
       "    </tr>\n",
       "  </thead>\n",
       "  <tbody>\n",
       "    <tr>\n",
       "      <td>0</td>\n",
       "      <td>4</td>\n",
       "      <td>sj</td>\n",
       "      <td>1990</td>\n",
       "      <td>18</td>\n",
       "      <td>1990-04-30</td>\n",
       "      <td>0.122600</td>\n",
       "      <td>0.103725</td>\n",
       "      <td>0.198483</td>\n",
       "      <td>0.177617</td>\n",
       "      <td>12.42</td>\n",
       "      <td>...</td>\n",
       "      <td>32.00</td>\n",
       "      <td>73.365714</td>\n",
       "      <td>12.42</td>\n",
       "      <td>14.012857</td>\n",
       "      <td>2.628571</td>\n",
       "      <td>25.442857</td>\n",
       "      <td>6.900000</td>\n",
       "      <td>29.4</td>\n",
       "      <td>20.0</td>\n",
       "      <td>16.0</td>\n",
       "    </tr>\n",
       "    <tr>\n",
       "      <td>1</td>\n",
       "      <td>5</td>\n",
       "      <td>sj</td>\n",
       "      <td>1990</td>\n",
       "      <td>19</td>\n",
       "      <td>1990-05-07</td>\n",
       "      <td>0.169900</td>\n",
       "      <td>0.142175</td>\n",
       "      <td>0.162357</td>\n",
       "      <td>0.155486</td>\n",
       "      <td>22.82</td>\n",
       "      <td>...</td>\n",
       "      <td>17.94</td>\n",
       "      <td>77.368571</td>\n",
       "      <td>22.82</td>\n",
       "      <td>15.372857</td>\n",
       "      <td>2.371429</td>\n",
       "      <td>26.714286</td>\n",
       "      <td>6.371429</td>\n",
       "      <td>31.7</td>\n",
       "      <td>22.2</td>\n",
       "      <td>8.6</td>\n",
       "    </tr>\n",
       "    <tr>\n",
       "      <td>2</td>\n",
       "      <td>4</td>\n",
       "      <td>sj</td>\n",
       "      <td>1990</td>\n",
       "      <td>20</td>\n",
       "      <td>1990-05-14</td>\n",
       "      <td>0.032250</td>\n",
       "      <td>0.172967</td>\n",
       "      <td>0.157200</td>\n",
       "      <td>0.170843</td>\n",
       "      <td>34.54</td>\n",
       "      <td>...</td>\n",
       "      <td>26.10</td>\n",
       "      <td>82.052857</td>\n",
       "      <td>34.54</td>\n",
       "      <td>16.848571</td>\n",
       "      <td>2.300000</td>\n",
       "      <td>26.714286</td>\n",
       "      <td>6.485714</td>\n",
       "      <td>32.2</td>\n",
       "      <td>22.8</td>\n",
       "      <td>41.4</td>\n",
       "    </tr>\n",
       "    <tr>\n",
       "      <td>3</td>\n",
       "      <td>3</td>\n",
       "      <td>sj</td>\n",
       "      <td>1990</td>\n",
       "      <td>21</td>\n",
       "      <td>1990-05-21</td>\n",
       "      <td>0.128633</td>\n",
       "      <td>0.245067</td>\n",
       "      <td>0.227557</td>\n",
       "      <td>0.235886</td>\n",
       "      <td>15.36</td>\n",
       "      <td>...</td>\n",
       "      <td>13.90</td>\n",
       "      <td>80.337143</td>\n",
       "      <td>15.36</td>\n",
       "      <td>16.672857</td>\n",
       "      <td>2.428571</td>\n",
       "      <td>27.471429</td>\n",
       "      <td>6.771429</td>\n",
       "      <td>33.3</td>\n",
       "      <td>23.3</td>\n",
       "      <td>4.0</td>\n",
       "    </tr>\n",
       "    <tr>\n",
       "      <td>4</td>\n",
       "      <td>6</td>\n",
       "      <td>sj</td>\n",
       "      <td>1990</td>\n",
       "      <td>22</td>\n",
       "      <td>1990-05-28</td>\n",
       "      <td>0.196200</td>\n",
       "      <td>0.262200</td>\n",
       "      <td>0.251200</td>\n",
       "      <td>0.247340</td>\n",
       "      <td>7.52</td>\n",
       "      <td>...</td>\n",
       "      <td>12.20</td>\n",
       "      <td>80.460000</td>\n",
       "      <td>7.52</td>\n",
       "      <td>17.210000</td>\n",
       "      <td>3.014286</td>\n",
       "      <td>28.942857</td>\n",
       "      <td>9.371429</td>\n",
       "      <td>35.0</td>\n",
       "      <td>23.9</td>\n",
       "      <td>5.8</td>\n",
       "    </tr>\n",
       "  </tbody>\n",
       "</table>\n",
       "<p>5 rows × 25 columns</p>\n",
       "</div>"
      ],
      "text/plain": [
       "   total_cases city  year  weekofyear week_start_date   ndvi_ne   ndvi_nw  \\\n",
       "0            4   sj  1990          18      1990-04-30  0.122600  0.103725   \n",
       "1            5   sj  1990          19      1990-05-07  0.169900  0.142175   \n",
       "2            4   sj  1990          20      1990-05-14  0.032250  0.172967   \n",
       "3            3   sj  1990          21      1990-05-21  0.128633  0.245067   \n",
       "4            6   sj  1990          22      1990-05-28  0.196200  0.262200   \n",
       "\n",
       "    ndvi_se   ndvi_sw  precipitation_amt_mm  ...  \\\n",
       "0  0.198483  0.177617                 12.42  ...   \n",
       "1  0.162357  0.155486                 22.82  ...   \n",
       "2  0.157200  0.170843                 34.54  ...   \n",
       "3  0.227557  0.235886                 15.36  ...   \n",
       "4  0.251200  0.247340                  7.52  ...   \n",
       "\n",
       "   reanalysis_precip_amt_kg_per_m2  reanalysis_relative_humidity_percent  \\\n",
       "0                            32.00                             73.365714   \n",
       "1                            17.94                             77.368571   \n",
       "2                            26.10                             82.052857   \n",
       "3                            13.90                             80.337143   \n",
       "4                            12.20                             80.460000   \n",
       "\n",
       "   reanalysis_sat_precip_amt_mm  reanalysis_specific_humidity_g_per_kg  \\\n",
       "0                         12.42                              14.012857   \n",
       "1                         22.82                              15.372857   \n",
       "2                         34.54                              16.848571   \n",
       "3                         15.36                              16.672857   \n",
       "4                          7.52                              17.210000   \n",
       "\n",
       "   reanalysis_tdtr_k  station_avg_temp_c  station_diur_temp_rng_c  \\\n",
       "0           2.628571           25.442857                 6.900000   \n",
       "1           2.371429           26.714286                 6.371429   \n",
       "2           2.300000           26.714286                 6.485714   \n",
       "3           2.428571           27.471429                 6.771429   \n",
       "4           3.014286           28.942857                 9.371429   \n",
       "\n",
       "   station_max_temp_c  station_min_temp_c  station_precip_mm  \n",
       "0                29.4                20.0               16.0  \n",
       "1                31.7                22.2                8.6  \n",
       "2                32.2                22.8               41.4  \n",
       "3                33.3                23.3                4.0  \n",
       "4                35.0                23.9                5.8  \n",
       "\n",
       "[5 rows x 25 columns]"
      ]
     },
     "execution_count": 157,
     "metadata": {},
     "output_type": "execute_result"
    }
   ],
   "source": [
    "training_data = pd.concat([train_labels, train_features], axis=1)\n",
    "\n",
    "training_data.head()\n",
    "\n",
    "sj_training = training_data[training_data['city']=='sj'] # trainingData_sj\n",
    "iq_training = training_data[training_data['city']=='iq'] # trainingData_iq\n",
    "\n",
    "sj_training.head()"
   ]
  },
  {
   "cell_type": "code",
   "execution_count": 158,
   "metadata": {},
   "outputs": [
    {
     "data": {
      "text/html": [
       "<div>\n",
       "<style scoped>\n",
       "    .dataframe tbody tr th:only-of-type {\n",
       "        vertical-align: middle;\n",
       "    }\n",
       "\n",
       "    .dataframe tbody tr th {\n",
       "        vertical-align: top;\n",
       "    }\n",
       "\n",
       "    .dataframe thead th {\n",
       "        text-align: right;\n",
       "    }\n",
       "</style>\n",
       "<table border=\"1\" class=\"dataframe\">\n",
       "  <thead>\n",
       "    <tr style=\"text-align: right;\">\n",
       "      <th></th>\n",
       "      <th>total_cases</th>\n",
       "      <th>city</th>\n",
       "      <th>year</th>\n",
       "      <th>weekofyear</th>\n",
       "      <th>week_start_date</th>\n",
       "      <th>ndvi_ne</th>\n",
       "      <th>ndvi_nw</th>\n",
       "      <th>ndvi_se</th>\n",
       "      <th>ndvi_sw</th>\n",
       "      <th>precipitation_amt_mm</th>\n",
       "      <th>...</th>\n",
       "      <th>reanalysis_precip_amt_kg_per_m2</th>\n",
       "      <th>reanalysis_relative_humidity_percent</th>\n",
       "      <th>reanalysis_sat_precip_amt_mm</th>\n",
       "      <th>reanalysis_specific_humidity_g_per_kg</th>\n",
       "      <th>reanalysis_tdtr_k</th>\n",
       "      <th>station_avg_temp_c</th>\n",
       "      <th>station_diur_temp_rng_c</th>\n",
       "      <th>station_max_temp_c</th>\n",
       "      <th>station_min_temp_c</th>\n",
       "      <th>station_precip_mm</th>\n",
       "    </tr>\n",
       "  </thead>\n",
       "  <tbody>\n",
       "    <tr>\n",
       "      <td>0</td>\n",
       "      <td>4</td>\n",
       "      <td>sj</td>\n",
       "      <td>1990</td>\n",
       "      <td>18</td>\n",
       "      <td>1990-04-30</td>\n",
       "      <td>0.122600</td>\n",
       "      <td>0.103725</td>\n",
       "      <td>0.198483</td>\n",
       "      <td>0.177617</td>\n",
       "      <td>12.42</td>\n",
       "      <td>...</td>\n",
       "      <td>32.00</td>\n",
       "      <td>73.365714</td>\n",
       "      <td>12.42</td>\n",
       "      <td>14.012857</td>\n",
       "      <td>2.628571</td>\n",
       "      <td>25.442857</td>\n",
       "      <td>6.900000</td>\n",
       "      <td>29.4</td>\n",
       "      <td>20.0</td>\n",
       "      <td>16.0</td>\n",
       "    </tr>\n",
       "    <tr>\n",
       "      <td>1</td>\n",
       "      <td>5</td>\n",
       "      <td>sj</td>\n",
       "      <td>1990</td>\n",
       "      <td>19</td>\n",
       "      <td>1990-05-07</td>\n",
       "      <td>0.169900</td>\n",
       "      <td>0.142175</td>\n",
       "      <td>0.162357</td>\n",
       "      <td>0.155486</td>\n",
       "      <td>22.82</td>\n",
       "      <td>...</td>\n",
       "      <td>17.94</td>\n",
       "      <td>77.368571</td>\n",
       "      <td>22.82</td>\n",
       "      <td>15.372857</td>\n",
       "      <td>2.371429</td>\n",
       "      <td>26.714286</td>\n",
       "      <td>6.371429</td>\n",
       "      <td>31.7</td>\n",
       "      <td>22.2</td>\n",
       "      <td>8.6</td>\n",
       "    </tr>\n",
       "    <tr>\n",
       "      <td>2</td>\n",
       "      <td>4</td>\n",
       "      <td>sj</td>\n",
       "      <td>1990</td>\n",
       "      <td>20</td>\n",
       "      <td>1990-05-14</td>\n",
       "      <td>0.032250</td>\n",
       "      <td>0.172967</td>\n",
       "      <td>0.157200</td>\n",
       "      <td>0.170843</td>\n",
       "      <td>34.54</td>\n",
       "      <td>...</td>\n",
       "      <td>26.10</td>\n",
       "      <td>82.052857</td>\n",
       "      <td>34.54</td>\n",
       "      <td>16.848571</td>\n",
       "      <td>2.300000</td>\n",
       "      <td>26.714286</td>\n",
       "      <td>6.485714</td>\n",
       "      <td>32.2</td>\n",
       "      <td>22.8</td>\n",
       "      <td>41.4</td>\n",
       "    </tr>\n",
       "    <tr>\n",
       "      <td>3</td>\n",
       "      <td>3</td>\n",
       "      <td>sj</td>\n",
       "      <td>1990</td>\n",
       "      <td>21</td>\n",
       "      <td>1990-05-21</td>\n",
       "      <td>0.128633</td>\n",
       "      <td>0.245067</td>\n",
       "      <td>0.227557</td>\n",
       "      <td>0.235886</td>\n",
       "      <td>15.36</td>\n",
       "      <td>...</td>\n",
       "      <td>13.90</td>\n",
       "      <td>80.337143</td>\n",
       "      <td>15.36</td>\n",
       "      <td>16.672857</td>\n",
       "      <td>2.428571</td>\n",
       "      <td>27.471429</td>\n",
       "      <td>6.771429</td>\n",
       "      <td>33.3</td>\n",
       "      <td>23.3</td>\n",
       "      <td>4.0</td>\n",
       "    </tr>\n",
       "    <tr>\n",
       "      <td>4</td>\n",
       "      <td>6</td>\n",
       "      <td>sj</td>\n",
       "      <td>1990</td>\n",
       "      <td>22</td>\n",
       "      <td>1990-05-28</td>\n",
       "      <td>0.196200</td>\n",
       "      <td>0.262200</td>\n",
       "      <td>0.251200</td>\n",
       "      <td>0.247340</td>\n",
       "      <td>7.52</td>\n",
       "      <td>...</td>\n",
       "      <td>12.20</td>\n",
       "      <td>80.460000</td>\n",
       "      <td>7.52</td>\n",
       "      <td>17.210000</td>\n",
       "      <td>3.014286</td>\n",
       "      <td>28.942857</td>\n",
       "      <td>9.371429</td>\n",
       "      <td>35.0</td>\n",
       "      <td>23.9</td>\n",
       "      <td>5.8</td>\n",
       "    </tr>\n",
       "  </tbody>\n",
       "</table>\n",
       "<p>5 rows × 25 columns</p>\n",
       "</div>"
      ],
      "text/plain": [
       "   total_cases city  year  weekofyear week_start_date   ndvi_ne   ndvi_nw  \\\n",
       "0            4   sj  1990          18      1990-04-30  0.122600  0.103725   \n",
       "1            5   sj  1990          19      1990-05-07  0.169900  0.142175   \n",
       "2            4   sj  1990          20      1990-05-14  0.032250  0.172967   \n",
       "3            3   sj  1990          21      1990-05-21  0.128633  0.245067   \n",
       "4            6   sj  1990          22      1990-05-28  0.196200  0.262200   \n",
       "\n",
       "    ndvi_se   ndvi_sw  precipitation_amt_mm  ...  \\\n",
       "0  0.198483  0.177617                 12.42  ...   \n",
       "1  0.162357  0.155486                 22.82  ...   \n",
       "2  0.157200  0.170843                 34.54  ...   \n",
       "3  0.227557  0.235886                 15.36  ...   \n",
       "4  0.251200  0.247340                  7.52  ...   \n",
       "\n",
       "   reanalysis_precip_amt_kg_per_m2  reanalysis_relative_humidity_percent  \\\n",
       "0                            32.00                             73.365714   \n",
       "1                            17.94                             77.368571   \n",
       "2                            26.10                             82.052857   \n",
       "3                            13.90                             80.337143   \n",
       "4                            12.20                             80.460000   \n",
       "\n",
       "   reanalysis_sat_precip_amt_mm  reanalysis_specific_humidity_g_per_kg  \\\n",
       "0                         12.42                              14.012857   \n",
       "1                         22.82                              15.372857   \n",
       "2                         34.54                              16.848571   \n",
       "3                         15.36                              16.672857   \n",
       "4                          7.52                              17.210000   \n",
       "\n",
       "   reanalysis_tdtr_k  station_avg_temp_c  station_diur_temp_rng_c  \\\n",
       "0           2.628571           25.442857                 6.900000   \n",
       "1           2.371429           26.714286                 6.371429   \n",
       "2           2.300000           26.714286                 6.485714   \n",
       "3           2.428571           27.471429                 6.771429   \n",
       "4           3.014286           28.942857                 9.371429   \n",
       "\n",
       "   station_max_temp_c  station_min_temp_c  station_precip_mm  \n",
       "0                29.4                20.0               16.0  \n",
       "1                31.7                22.2                8.6  \n",
       "2                32.2                22.8               41.4  \n",
       "3                33.3                23.3                4.0  \n",
       "4                35.0                23.9                5.8  \n",
       "\n",
       "[5 rows x 25 columns]"
      ]
     },
     "execution_count": 158,
     "metadata": {},
     "output_type": "execute_result"
    }
   ],
   "source": [
    "# Filling the NaN values with the most recent observation\n",
    "# sj_train_features.sort_index(inplace = True)\n",
    "\n",
    "# San Juan\n",
    "sj_training.fillna(method = 'ffill', inplace = True) # done\n",
    "# sj_test_features.fillna(method = 'ffill', inplace = True)\n",
    "\n",
    "# Iquitos\n",
    "# iq_train_features.sort_index(inplace = True)\n",
    "iq_training.fillna(method = 'ffill', inplace = True) # done\n",
    "# iq_test_features.fillna(method = 'ffill', inplace = True)\n",
    "\n",
    "sj_training.head()"
   ]
  },
  {
   "cell_type": "code",
   "execution_count": 159,
   "metadata": {},
   "outputs": [],
   "source": [
    "# Set week_start_date as index and drop from columns\n",
    "sj_training.set_index('week_start_date', drop = True, inplace = True)\n",
    "iq_training.set_index('week_start_date', drop = True, inplace = True)\n",
    "\n",
    "sj_training.drop(['city', 'year'], axis = 1, inplace = True)\n",
    "iq_training.drop(['city', 'year'], axis = 1, inplace = True)"
   ]
  },
  {
   "cell_type": "code",
   "execution_count": 160,
   "metadata": {},
   "outputs": [],
   "source": [
    "sj_training.to_pickle('sj_training.pkl')\n",
    "iq_training.to_pickle('iq_training.pkl')"
   ]
  },
  {
   "cell_type": "code",
   "execution_count": 161,
   "metadata": {},
   "outputs": [],
   "source": [
    "train_new = pd.read_csv('data/dengue_features_train.csv', parse_dates=[3])\n",
    "test_new = pd.read_csv('data/dengue_features_test.csv', parse_dates=[3])"
   ]
  },
  {
   "cell_type": "code",
   "execution_count": 162,
   "metadata": {},
   "outputs": [],
   "source": [
    "total_set = pd.concat([train_new, test_new], axis = 0)"
   ]
  },
  {
   "cell_type": "code",
   "execution_count": 163,
   "metadata": {},
   "outputs": [],
   "source": [
    "total_sj = total_set[total_set['city'] == 'sj']\n",
    "total_iq = total_set[total_set['city'] == 'iq']"
   ]
  },
  {
   "cell_type": "code",
   "execution_count": 164,
   "metadata": {},
   "outputs": [],
   "source": [
    "total_sj = total_sj.fillna(method = 'ffill')\n",
    "total_iq = total_iq.fillna(method = 'ffill')"
   ]
  },
  {
   "cell_type": "code",
   "execution_count": 165,
   "metadata": {},
   "outputs": [],
   "source": [
    "total_sj.set_index('week_start_date', drop = True, inplace = True)\n",
    "total_iq.set_index('week_start_date', drop = True, inplace = True)\n",
    "\n",
    "total_sj.drop(['city', 'year'], axis = 1, inplace = True)\n",
    "total_iq.drop(['city', 'year'], axis = 1, inplace = True)"
   ]
  },
  {
   "cell_type": "code",
   "execution_count": 166,
   "metadata": {},
   "outputs": [],
   "source": [
    "total_iq.to_pickle('total_iq.pkl')\n",
    "total_sj.to_pickle('total_sj.pkl')"
   ]
  },
  {
   "cell_type": "markdown",
   "metadata": {},
   "source": [
    "# b. Data Pre-processing"
   ]
  },
  {
   "cell_type": "code",
   "execution_count": 167,
   "metadata": {},
   "outputs": [
    {
     "data": {
      "text/html": [
       "<div>\n",
       "<style scoped>\n",
       "    .dataframe tbody tr th:only-of-type {\n",
       "        vertical-align: middle;\n",
       "    }\n",
       "\n",
       "    .dataframe tbody tr th {\n",
       "        vertical-align: top;\n",
       "    }\n",
       "\n",
       "    .dataframe thead th {\n",
       "        text-align: right;\n",
       "    }\n",
       "</style>\n",
       "<table border=\"1\" class=\"dataframe\">\n",
       "  <thead>\n",
       "    <tr style=\"text-align: right;\">\n",
       "      <th></th>\n",
       "      <th>weekofyear</th>\n",
       "      <th>ndvi_ne</th>\n",
       "      <th>ndvi_nw</th>\n",
       "      <th>ndvi_se</th>\n",
       "      <th>ndvi_sw</th>\n",
       "      <th>precipitation_amt_mm</th>\n",
       "      <th>reanalysis_air_temp_k</th>\n",
       "      <th>reanalysis_avg_temp_k</th>\n",
       "      <th>reanalysis_dew_point_temp_k</th>\n",
       "      <th>reanalysis_max_air_temp_k</th>\n",
       "      <th>...</th>\n",
       "      <th>reanalysis_relative_humidity_percent</th>\n",
       "      <th>reanalysis_sat_precip_amt_mm</th>\n",
       "      <th>reanalysis_specific_humidity_g_per_kg</th>\n",
       "      <th>reanalysis_tdtr_k</th>\n",
       "      <th>station_avg_temp_c</th>\n",
       "      <th>station_diur_temp_rng_c</th>\n",
       "      <th>station_max_temp_c</th>\n",
       "      <th>station_min_temp_c</th>\n",
       "      <th>station_precip_mm</th>\n",
       "      <th>month</th>\n",
       "    </tr>\n",
       "    <tr>\n",
       "      <th>week_start_date</th>\n",
       "      <th></th>\n",
       "      <th></th>\n",
       "      <th></th>\n",
       "      <th></th>\n",
       "      <th></th>\n",
       "      <th></th>\n",
       "      <th></th>\n",
       "      <th></th>\n",
       "      <th></th>\n",
       "      <th></th>\n",
       "      <th></th>\n",
       "      <th></th>\n",
       "      <th></th>\n",
       "      <th></th>\n",
       "      <th></th>\n",
       "      <th></th>\n",
       "      <th></th>\n",
       "      <th></th>\n",
       "      <th></th>\n",
       "      <th></th>\n",
       "      <th></th>\n",
       "    </tr>\n",
       "  </thead>\n",
       "  <tbody>\n",
       "    <tr>\n",
       "      <td>1990-04-30</td>\n",
       "      <td>18</td>\n",
       "      <td>0.122600</td>\n",
       "      <td>0.103725</td>\n",
       "      <td>0.198483</td>\n",
       "      <td>0.177617</td>\n",
       "      <td>12.42</td>\n",
       "      <td>297.572857</td>\n",
       "      <td>297.742857</td>\n",
       "      <td>292.414286</td>\n",
       "      <td>299.8</td>\n",
       "      <td>...</td>\n",
       "      <td>73.365714</td>\n",
       "      <td>12.42</td>\n",
       "      <td>14.012857</td>\n",
       "      <td>2.628571</td>\n",
       "      <td>25.442857</td>\n",
       "      <td>6.900000</td>\n",
       "      <td>29.4</td>\n",
       "      <td>20.0</td>\n",
       "      <td>16.0</td>\n",
       "      <td>4</td>\n",
       "    </tr>\n",
       "    <tr>\n",
       "      <td>1990-05-07</td>\n",
       "      <td>19</td>\n",
       "      <td>0.169900</td>\n",
       "      <td>0.142175</td>\n",
       "      <td>0.162357</td>\n",
       "      <td>0.155486</td>\n",
       "      <td>22.82</td>\n",
       "      <td>298.211429</td>\n",
       "      <td>298.442857</td>\n",
       "      <td>293.951429</td>\n",
       "      <td>300.9</td>\n",
       "      <td>...</td>\n",
       "      <td>77.368571</td>\n",
       "      <td>22.82</td>\n",
       "      <td>15.372857</td>\n",
       "      <td>2.371429</td>\n",
       "      <td>26.714286</td>\n",
       "      <td>6.371429</td>\n",
       "      <td>31.7</td>\n",
       "      <td>22.2</td>\n",
       "      <td>8.6</td>\n",
       "      <td>5</td>\n",
       "    </tr>\n",
       "    <tr>\n",
       "      <td>1990-05-14</td>\n",
       "      <td>20</td>\n",
       "      <td>0.032250</td>\n",
       "      <td>0.172967</td>\n",
       "      <td>0.157200</td>\n",
       "      <td>0.170843</td>\n",
       "      <td>34.54</td>\n",
       "      <td>298.781429</td>\n",
       "      <td>298.878571</td>\n",
       "      <td>295.434286</td>\n",
       "      <td>300.5</td>\n",
       "      <td>...</td>\n",
       "      <td>82.052857</td>\n",
       "      <td>34.54</td>\n",
       "      <td>16.848571</td>\n",
       "      <td>2.300000</td>\n",
       "      <td>26.714286</td>\n",
       "      <td>6.485714</td>\n",
       "      <td>32.2</td>\n",
       "      <td>22.8</td>\n",
       "      <td>41.4</td>\n",
       "      <td>5</td>\n",
       "    </tr>\n",
       "    <tr>\n",
       "      <td>1990-05-21</td>\n",
       "      <td>21</td>\n",
       "      <td>0.128633</td>\n",
       "      <td>0.245067</td>\n",
       "      <td>0.227557</td>\n",
       "      <td>0.235886</td>\n",
       "      <td>15.36</td>\n",
       "      <td>298.987143</td>\n",
       "      <td>299.228571</td>\n",
       "      <td>295.310000</td>\n",
       "      <td>301.4</td>\n",
       "      <td>...</td>\n",
       "      <td>80.337143</td>\n",
       "      <td>15.36</td>\n",
       "      <td>16.672857</td>\n",
       "      <td>2.428571</td>\n",
       "      <td>27.471429</td>\n",
       "      <td>6.771429</td>\n",
       "      <td>33.3</td>\n",
       "      <td>23.3</td>\n",
       "      <td>4.0</td>\n",
       "      <td>5</td>\n",
       "    </tr>\n",
       "    <tr>\n",
       "      <td>1990-05-28</td>\n",
       "      <td>22</td>\n",
       "      <td>0.196200</td>\n",
       "      <td>0.262200</td>\n",
       "      <td>0.251200</td>\n",
       "      <td>0.247340</td>\n",
       "      <td>7.52</td>\n",
       "      <td>299.518571</td>\n",
       "      <td>299.664286</td>\n",
       "      <td>295.821429</td>\n",
       "      <td>301.9</td>\n",
       "      <td>...</td>\n",
       "      <td>80.460000</td>\n",
       "      <td>7.52</td>\n",
       "      <td>17.210000</td>\n",
       "      <td>3.014286</td>\n",
       "      <td>28.942857</td>\n",
       "      <td>9.371429</td>\n",
       "      <td>35.0</td>\n",
       "      <td>23.9</td>\n",
       "      <td>5.8</td>\n",
       "      <td>5</td>\n",
       "    </tr>\n",
       "  </tbody>\n",
       "</table>\n",
       "<p>5 rows × 22 columns</p>\n",
       "</div>"
      ],
      "text/plain": [
       "                 weekofyear   ndvi_ne   ndvi_nw   ndvi_se   ndvi_sw  \\\n",
       "week_start_date                                                       \n",
       "1990-04-30               18  0.122600  0.103725  0.198483  0.177617   \n",
       "1990-05-07               19  0.169900  0.142175  0.162357  0.155486   \n",
       "1990-05-14               20  0.032250  0.172967  0.157200  0.170843   \n",
       "1990-05-21               21  0.128633  0.245067  0.227557  0.235886   \n",
       "1990-05-28               22  0.196200  0.262200  0.251200  0.247340   \n",
       "\n",
       "                 precipitation_amt_mm  reanalysis_air_temp_k  \\\n",
       "week_start_date                                                \n",
       "1990-04-30                      12.42             297.572857   \n",
       "1990-05-07                      22.82             298.211429   \n",
       "1990-05-14                      34.54             298.781429   \n",
       "1990-05-21                      15.36             298.987143   \n",
       "1990-05-28                       7.52             299.518571   \n",
       "\n",
       "                 reanalysis_avg_temp_k  reanalysis_dew_point_temp_k  \\\n",
       "week_start_date                                                       \n",
       "1990-04-30                  297.742857                   292.414286   \n",
       "1990-05-07                  298.442857                   293.951429   \n",
       "1990-05-14                  298.878571                   295.434286   \n",
       "1990-05-21                  299.228571                   295.310000   \n",
       "1990-05-28                  299.664286                   295.821429   \n",
       "\n",
       "                 reanalysis_max_air_temp_k  ...  \\\n",
       "week_start_date                             ...   \n",
       "1990-04-30                           299.8  ...   \n",
       "1990-05-07                           300.9  ...   \n",
       "1990-05-14                           300.5  ...   \n",
       "1990-05-21                           301.4  ...   \n",
       "1990-05-28                           301.9  ...   \n",
       "\n",
       "                 reanalysis_relative_humidity_percent  \\\n",
       "week_start_date                                         \n",
       "1990-04-30                                  73.365714   \n",
       "1990-05-07                                  77.368571   \n",
       "1990-05-14                                  82.052857   \n",
       "1990-05-21                                  80.337143   \n",
       "1990-05-28                                  80.460000   \n",
       "\n",
       "                 reanalysis_sat_precip_amt_mm  \\\n",
       "week_start_date                                 \n",
       "1990-04-30                              12.42   \n",
       "1990-05-07                              22.82   \n",
       "1990-05-14                              34.54   \n",
       "1990-05-21                              15.36   \n",
       "1990-05-28                               7.52   \n",
       "\n",
       "                 reanalysis_specific_humidity_g_per_kg  reanalysis_tdtr_k  \\\n",
       "week_start_date                                                             \n",
       "1990-04-30                                   14.012857           2.628571   \n",
       "1990-05-07                                   15.372857           2.371429   \n",
       "1990-05-14                                   16.848571           2.300000   \n",
       "1990-05-21                                   16.672857           2.428571   \n",
       "1990-05-28                                   17.210000           3.014286   \n",
       "\n",
       "                 station_avg_temp_c  station_diur_temp_rng_c  \\\n",
       "week_start_date                                                \n",
       "1990-04-30                25.442857                 6.900000   \n",
       "1990-05-07                26.714286                 6.371429   \n",
       "1990-05-14                26.714286                 6.485714   \n",
       "1990-05-21                27.471429                 6.771429   \n",
       "1990-05-28                28.942857                 9.371429   \n",
       "\n",
       "                 station_max_temp_c  station_min_temp_c  station_precip_mm  \\\n",
       "week_start_date                                                              \n",
       "1990-04-30                     29.4                20.0               16.0   \n",
       "1990-05-07                     31.7                22.2                8.6   \n",
       "1990-05-14                     32.2                22.8               41.4   \n",
       "1990-05-21                     33.3                23.3                4.0   \n",
       "1990-05-28                     35.0                23.9                5.8   \n",
       "\n",
       "                 month  \n",
       "week_start_date         \n",
       "1990-04-30           4  \n",
       "1990-05-07           5  \n",
       "1990-05-14           5  \n",
       "1990-05-21           5  \n",
       "1990-05-28           5  \n",
       "\n",
       "[5 rows x 22 columns]"
      ]
     },
     "execution_count": 167,
     "metadata": {},
     "output_type": "execute_result"
    }
   ],
   "source": [
    "total_cases_pick = pd.read_csv('data/dengue_labels_train.csv')\n",
    "cases_sj = total_cases_pick[total_cases_pick['city'] == 'sj']['total_cases']\n",
    "cases_iq = total_cases_pick[total_cases_pick['city'] == 'iq']['total_cases']\n",
    "\n",
    "# create month variable\n",
    "total_sj['month'] = total_sj.index.month\n",
    "total_iq['month'] = total_iq.index.month\n",
    "\n",
    "# mean ndvi\n",
    "sj_training['ndvi_mean'] = (sj_training['ndvi_ne'] + sj_training['ndvi_nw'] + sj_training['ndvi_se'] + sj_training['ndvi_sw']) / 4.0\n",
    "iq_training['ndvi_mean'] = (iq_training['ndvi_ne'] + iq_training['ndvi_nw'] + iq_training['ndvi_se'] + iq_training['ndvi_sw']) / 4.0\n",
    "\n",
    "total_sj.head()"
   ]
  },
  {
   "cell_type": "markdown",
   "metadata": {},
   "source": [
    "After conducting our simple exploratory data analysis, we proceed to split the dataset into training and cross validation dataset."
   ]
  },
  {
   "cell_type": "markdown",
   "metadata": {},
   "source": [
    "Split the dataset purposefully, with the first observations until '2003-4-20' set as our training set for the San Juan dataset."
   ]
  },
  {
   "cell_type": "code",
   "execution_count": 176,
   "metadata": {},
   "outputs": [
    {
     "name": "stdout",
     "output_type": "stream",
     "text": [
      "(675, 22)\n",
      "(675,)\n",
      "(260, 22)\n"
     ]
    }
   ],
   "source": [
    "# San Juan\n",
    "\n",
    "sj_valid_split = '2003-4-20'\n",
    "sj_test_split = '2008-4-27'\n",
    "\n",
    "sj_Xtrain = total_sj.loc[:sj_valid_split]\n",
    "sj_ytrain = cases_sj[:len(sj_Xtrain)]\n",
    "\n",
    "sj_Xvalid = total_sj.loc[sj_valid_split : sj_test_split]\n",
    "sj_yvalid = cases_sj[len(sj_Xvalid):]\n",
    "\n",
    "sj_test = total_sj.loc[sj_test_split:]\n",
    "sj_Xtest = sj_test\n",
    "\n",
    "print(sj_Xtrain.shape)\n",
    "print(sj_ytrain.shape)\n",
    "print(sj_test.shape)"
   ]
  },
  {
   "cell_type": "markdown",
   "metadata": {},
   "source": [
    "Split the dataset purposefully, with the first observations until '2007-7-01' set as our training set for the Iquitos dataset."
   ]
  },
  {
   "cell_type": "code",
   "execution_count": 177,
   "metadata": {},
   "outputs": [
    {
     "name": "stdout",
     "output_type": "stream",
     "text": [
      "(364, 22)\n",
      "(364,)\n",
      "(156, 22)\n"
     ]
    }
   ],
   "source": [
    "# Iquitos\n",
    "\n",
    "iq_valid_split = '2007-7-01'\n",
    "iq_test_split = '2010-7-01'\n",
    "\n",
    "# split\n",
    "iq_train = total_iq.loc[:iq_valid_split]\n",
    "iq_Xtrain = iq_train\n",
    "iq_ytrain = cases_iq[:len(iq_Xtrain)]\n",
    "\n",
    "iq_valid = total_iq.loc[iq_valid_split : iq_test_split]\n",
    "iq_Xvalid = iq_valid\n",
    "iq_yvalid = cases_iq[len(iq_train):]\n",
    "\n",
    "iq_test = total_iq.loc[iq_test_split:]\n",
    "iq_Xtest = iq_test\n",
    "\n",
    "print(iq_Xtrain.shape)\n",
    "print(iq_ytrain.shape)\n",
    "print(iq_test.shape)"
   ]
  },
  {
   "cell_type": "code",
   "execution_count": 170,
   "metadata": {},
   "outputs": [],
   "source": [
    "# Importing plotting libraries\n",
    "import matplotlib.pyplot as plt\n",
    "import seaborn as sns\n",
    "%matplotlib inline\n",
    "plt.style.use('bmh')\n",
    "\n",
    "# Import sikit-learn for predictions (ML)\n",
    "from sklearn.preprocessing import StandardScaler\n",
    "from sklearn.linear_model import LinearRegression, LogisticRegression"
   ]
  },
  {
   "cell_type": "code",
   "execution_count": 178,
   "metadata": {},
   "outputs": [
    {
     "data": {
      "image/png": "[encoded data removed]",
      "text/plain": [
       "<Figure size 432x288 with 1 Axes>"
      ]
     },
     "metadata": {
      "needs_background": "light"
     },
     "output_type": "display_data"
    }
   ],
   "source": [
    "lr_sj = LinearRegression()\n",
    "X = pd.get_dummies(sj_Xtrain['month'], prefix='month')\n",
    "y = sj_ytrain.values\n",
    "\n",
    "lr_sj.fit(X, y)\n",
    "monthly_trend_train = pd.Series(lr_sj.predict(X)).rolling(3, min_periods = 1).mean()\n",
    "sj_residuals_train = y - monthly_trend_train\n",
    "\n",
    "Xtest = pd.get_dummies(sj_Xvalid['month'], prefix='month')\n",
    "ytest = sj_yvalid.values\n",
    "monthly_trend_valid = pd.Series(lr_sj.predict(Xtest)).rolling(3, min_periods=1).mean()\n",
    "sj_residuals_test = ytest[:len(monthly_trend_valid)] - monthly_trend_valid\n",
    "# plot\n",
    "plt.plot(lr_sj.predict(Xtest))\n",
    "plt.plot(monthly_trend_valid)\n",
    "plt.plot(ytest)\n",
    "plt.show()"
   ]
  },
  {
   "cell_type": "code",
   "execution_count": 180,
   "metadata": {},
   "outputs": [],
   "source": [
    "Xtrain_means1 = total_sj['station_avg_temp_c'].rolling(window = 52).mean()[60:675]\n",
    "Xtrain_means2 = total_sj['ndvi_se'].rolling(window = 10).mean()[60:675]\n",
    "Xtrain = pd.concat([Xtrain_means1], axis = 1)\n",
    "ytrain = sj_residuals_train[60:]\n",
    "Xvalid_means1 = total_sj['station_avg_temp_c'].rolling(window = 53).mean()[675:936]\n",
    "Xvalid_means2 = total_sj['ndvi_se'].rolling(window = 10).mean()[675:936]\n",
    "Xvalid = pd.concat([Xvalid_means1], axis = 1)[60:]\n",
    "yvalid = sj_residuals_test[60:]\n",
    "\n",
    "\n",
    "# fit on model, predict\n",
    "lr_sj_residual = LinearRegression()\n",
    "lr_sj_residual.fit(Xtrain, ytrain)\n",
    "\n",
    "sj_valid_preds = lr_sj_residual.predict(Xvalid)\n"
   ]
  },
  {
   "cell_type": "code",
   "execution_count": 181,
   "metadata": {},
   "outputs": [
    {
     "data": {
      "text/plain": [
       "[<matplotlib.lines.Line2D at 0x1e3cda11860>]"
      ]
     },
     "execution_count": 181,
     "metadata": {},
     "output_type": "execute_result"
    },
    {
     "data": {
      "image/png": "[encoded data removed]",
      "text/plain": [
       "<Figure size 432x288 with 1 Axes>"
      ]
     },
     "metadata": {
      "needs_background": "light"
     },
     "output_type": "display_data"
    }
   ],
   "source": [
    "plt.plot(sj_valid_preds)"
   ]
  },
  {
   "cell_type": "code",
   "execution_count": 182,
   "metadata": {},
   "outputs": [],
   "source": [
    "lr_iq = LinearRegression()\n",
    "X = pd.get_dummies(iq_Xtrain['month'], prefix='month')\n",
    "y = iq_ytrain.values\n",
    "\n",
    "lr_iq.fit(X, y)\n",
    "monthly_trend_train = pd.Series(lr_iq.predict(X)).rolling(9, min_periods = 1).mean()\n",
    "iq_residuals_train = y - monthly_trend_train\n",
    "\n",
    "Xtest = pd.get_dummies(iq_Xvalid['month'], prefix='month')\n",
    "ytest = iq_yvalid.values\n",
    "monthly_trend_valid = pd.Series(lr_iq.predict(Xtest)).rolling(9, min_periods=1).mean()\n",
    "iq_residuals_test = ytest - monthly_trend_valid"
   ]
  },
  {
   "cell_type": "code",
   "execution_count": 183,
   "metadata": {},
   "outputs": [
    {
     "data": {
      "text/plain": [
       "[<matplotlib.lines.Line2D at 0x1e3cda83668>]"
      ]
     },
     "execution_count": 183,
     "metadata": {},
     "output_type": "execute_result"
    },
    {
     "data": {
      "image/png": "[encoded data removed]",
      "text/plain": [
       "<Figure size 432x288 with 1 Axes>"
      ]
     },
     "metadata": {
      "needs_background": "light"
     },
     "output_type": "display_data"
    }
   ],
   "source": [
    "plt.plot(monthly_trend_valid)"
   ]
  },
  {
   "cell_type": "code",
   "execution_count": 184,
   "metadata": {},
   "outputs": [
    {
     "data": {
      "text/plain": [
       "[<matplotlib.lines.Line2D at 0x1e3cdae8400>]"
      ]
     },
     "execution_count": 184,
     "metadata": {},
     "output_type": "execute_result"
    },
    {
     "data": {
      "image/png": "[encoded data removed]",
      "text/plain": [
       "<Figure size 432x288 with 1 Axes>"
      ]
     },
     "metadata": {
      "needs_background": "light"
     },
     "output_type": "display_data"
    }
   ],
   "source": [
    "plt.plot(ytest)"
   ]
  },
  {
   "cell_type": "code",
   "execution_count": 186,
   "metadata": {},
   "outputs": [],
   "source": [
    "Xtrain_means1 = total_iq['station_avg_temp_c'].rolling(window = 53).mean()[60:364]\n",
    "Xtrain = pd.concat([Xtrain_means1], axis = 1)\n",
    "ytrain = iq_residuals_train[60:]\n",
    "Xvalid_means1 = total_iq['station_avg_temp_c'].rolling(window = 53).mean()[364:520]\n",
    "Xvalid = pd.concat([Xvalid_means1], axis = 1)[60:]\n",
    "yvalid = iq_residuals_test[60:]\n",
    "lr_iq_resids = LinearRegression()\n",
    "lr_iq_resids.fit(Xtrain, ytrain)\n",
    "iq_valid_preds = lr_iq_resids.predict(Xvalid)"
   ]
  },
  {
   "cell_type": "code",
   "execution_count": 187,
   "metadata": {},
   "outputs": [
    {
     "data": {
      "text/plain": [
       "[<matplotlib.lines.Line2D at 0x1e3cdb58898>]"
      ]
     },
     "execution_count": 187,
     "metadata": {},
     "output_type": "execute_result"
    },
    {
     "data": {
      "image/png": "[encoded data removed]",
      "text/plain": [
       "<Figure size 432x288 with 1 Axes>"
      ]
     },
     "metadata": {
      "needs_background": "light"
     },
     "output_type": "display_data"
    }
   ],
   "source": [
    "plt.plot(yvalid.values, alpha = .75)"
   ]
  },
  {
   "cell_type": "code",
   "execution_count": 188,
   "metadata": {},
   "outputs": [],
   "source": [
    "month_temp = pd.get_dummies(total_sj['month'], prefix='month')\n",
    "temp_means_roll = pd.DataFrame(total_sj[['station_avg_temp_c']].rolling(window = 55).mean())\n",
    "Xtest = pd.concat([month_temp, temp_means_roll], axis = 1)\n",
    "# train model\n",
    "lr_sj_full = LinearRegression()\n",
    "lr_sj_full.fit(Xtest[60:-260], cases_sj.values[60:])\n",
    "\n",
    "# predicts\n",
    "sj_full_preds = lr_sj_full.predict(Xtest[55:])\n",
    "sj_submit_preds = sj_full_preds[-260:]"
   ]
  },
  {
   "cell_type": "code",
   "execution_count": 189,
   "metadata": {},
   "outputs": [],
   "source": [
    "from sklearn.metrics import mean_absolute_error"
   ]
  },
  {
   "cell_type": "code",
   "execution_count": 190,
   "metadata": {},
   "outputs": [
    {
     "name": "stdout",
     "output_type": "stream",
     "text": [
      "25.750957718501702\n"
     ]
    }
   ],
   "source": [
    "print (mean_absolute_error(sj_full_preds[:-260], cases_sj.values[55:]))"
   ]
  },
  {
   "cell_type": "code",
   "execution_count": 191,
   "metadata": {},
   "outputs": [
    {
     "data": {
      "text/plain": [
       "[<matplotlib.lines.Line2D at 0x1e3cdbc06a0>]"
      ]
     },
     "execution_count": 191,
     "metadata": {},
     "output_type": "execute_result"
    },
    {
     "data": {
      "image/png": "[encoded data removed]",
      "text/plain": [
       "<Figure size 432x288 with 1 Axes>"
      ]
     },
     "metadata": {
      "needs_background": "light"
     },
     "output_type": "display_data"
    }
   ],
   "source": [
    "plt.plot(cases_sj.values[55:])"
   ]
  },
  {
   "cell_type": "code",
   "execution_count": 193,
   "metadata": {},
   "outputs": [],
   "source": [
    "month_temp_iq = pd.get_dummies(total_iq['month'], prefix='month')\n",
    "temp_means_roll_iq = pd.DataFrame(total_iq[['ndvi_nw']].rolling(window = 68).mean())\n",
    "Xtest = pd.concat([month_temp_iq, temp_means_roll_iq], axis = 1)\n",
    "\n",
    "# train\n",
    "lr_iq_full = LinearRegression()\n",
    "lr_iq_full.fit(Xtest[68:-156], cases_iq.values[68:])\n",
    "\n",
    "# predicts\n",
    "iq_full_preds = lr_iq_full.predict(Xtest[68:])\n",
    "iq_submit_preds = iq_full_preds[-156:]"
   ]
  },
  {
   "cell_type": "code",
   "execution_count": 194,
   "metadata": {},
   "outputs": [
    {
     "data": {
      "text/plain": [
       "[<matplotlib.lines.Line2D at 0x1e3cdc1b978>]"
      ]
     },
     "execution_count": 194,
     "metadata": {},
     "output_type": "execute_result"
    },
    {
     "data": {
      "image/png": "[encoded data removed]",
      "text/plain": [
       "<Figure size 432x288 with 1 Axes>"
      ]
     },
     "metadata": {
      "needs_background": "light"
     },
     "output_type": "display_data"
    }
   ],
   "source": [
    "plt.plot(iq_submit_preds)"
   ]
  },
  {
   "cell_type": "code",
   "execution_count": 195,
   "metadata": {},
   "outputs": [],
   "source": [
    "total_preds = list(sj_submit_preds) + list(iq_submit_preds)"
   ]
  },
  {
   "cell_type": "code",
   "execution_count": 196,
   "metadata": {},
   "outputs": [
    {
     "name": "stdout",
     "output_type": "stream",
     "text": [
      "[9.25, 6.953125, 7.96875, 9.75, 10.015625, 11.1875, 9.875, 10.171875, 9.640625, 20.84375, 19.59375, 19.125, 18.96875, 19.078125, 39.421875, 40.046875, 40.375, 40.609375, 49.46875, 49.40625, 49.25, 48.375, 47.875, 63.0625, 62.140625, 61.21875, 60.75, 51.578125, 51.03125, 51.625, 50.703125, 32.28125, 30.984375, 31.78125, 31.046875, 22.546875, 22.546875, 23.359375, 23.828125, 25.0, 16.4375, 17.234375, 17.671875, 18.625, 11.3125, 11.890625, 12.140625, 12.28125, 5.859375, 6.359375, 7.828125, 8.375, 10.03125, 10.234375, 9.796875, 9.53125, 11.03125, 12.984375, 12.75, 13.171875, 13.8125, 27.390625, 27.75, 28.421875, 29.25, 30.859375, 51.90625, 52.03125, 51.96875, 53.03125, 61.28125, 60.953125, 61.296875, 60.609375, 76.84375, 78.296875, 80.359375, 80.96875, 81.859375, 75.140625, 75.515625, 75.59375, 75.296875, 57.890625, 58.1875, 58.390625, 59.8125, 53.109375, 53.28125, 53.8125, 53.8125, 54.5, 43.90625, 44.3125, 44.5, 45.640625, 39.578125, 40.421875, 41.359375, 43.59375, 39.40625, 41.109375, 41.984375, 43.40625, 45.390625, 46.578125, 46.765625, 47.875, 49.75, 53.65625, 56.265625, 57.3125, 57.03125, 67.9375, 68.703125, 69.21875, 67.359375, 65.625, 85.71875, 85.84375, 85.015625, 84.90625, 92.96875, 93.109375, 92.09375, 91.234375, 105.796875, 104.75, 104.3125, 103.078125, 101.421875, 92.09375, 90.703125, 87.984375, 85.953125, 67.40625, 64.453125, 63.328125, 61.734375, 52.265625, 49.828125, 48.265625, 47.015625, 45.890625, 35.6875, 36.21875, 36.421875, 36.640625, 26.96875, 25.78125, 24.046875, 21.671875, 15.3125, 16.09375, 14.140625, 12.515625, 12.265625, 11.46875, 11.03125, 10.0625, 7.578125, 10.09375, 8.828125, 8.46875, 8.265625, 18.921875, 18.0, 18.625, 18.6875, 18.375, 37.671875, 38.109375, 39.3125, 38.65625, 44.796875, 44.765625, 44.390625, 42.34375, 56.578125, 56.765625, 56.046875, 56.015625, 55.21875, 47.015625, 46.15625, 45.28125, 44.515625, 26.4375, 26.171875, 25.9375, 25.828125, 19.125, 19.203125, 19.40625, 19.421875, 20.09375, 10.171875, 9.671875, 10.015625, 9.84375, 2.140625, 2.046875, 2.453125, 3.65625, -1.953125, -0.671875, 1.046875, 1.84375, 1.28125, 2.359375, 2.984375, 4.171875, 5.546875, 9.109375, 11.421875, 14.921875, 17.40625, 32.265625, 33.90625, 34.140625, 34.84375, 35.6875, 57.078125, 58.0625, 58.15625, 59.34375, 66.984375, 67.171875, 68.46875, 70.46875, 71.65625, 87.109375, 88.859375, 89.4375, 89.4375, 83.15625, 83.953125, 85.15625, 85.34375, 68.875, 68.90625, 68.90625, 68.859375, 61.921875, 62.078125, 62.109375, 61.453125, 61.390625, 51.609375, 51.484375, 52.234375, 53.171875, 46.671875, 46.390625, 47.3125, 48.671875, 43.203125, 45.40625, 47.03125, 47.71875, 7.3125, 7.8125, 8.4375, 8.4375, 9.5625, 9.5625, 10.125, 9.4375, 9.75, 12.25, 11.5625, 11.9375, 13.0, 16.6875, 16.875, 17.375, 17.5, 17.1875, 15.3125, 16.0, 16.6875, 16.9375, 19.3125, 19.625, 20.25, 18.5625, 19.8125, 19.875, 19.625, 19.875, 19.75, 20.625, 20.125, 20.375, 19.1875, 12.8125, 12.25, 12.5625, 11.75, 11.125, 11.625, 12.0625, 11.875, 12.9375, 13.375, 14.125, 13.375, 13.8125, 11.4375, 11.5, 11.5625, 11.75, 11.8125, 11.1875, 11.375, 11.875, 11.4375, 11.9375, 12.1875, 12.25, 12.375, 15.4375, 15.375, 14.3125, 15.8125, 19.0625, 19.4375, 19.5625, 20.375, 21.25, 19.8125, 21.0625, 20.8125, 21.0625, 24.5, 24.5, 24.375, 24.4375, 25.8125, 25.625, 25.375, 24.6875, 24.25, 25.0, 25.25, 25.3125, 24.25, 18.0625, 18.0625, 17.125, 17.5625, 16.5625, 16.0625, 16.0625, 16.1875, 16.5, 15.8125, 15.75, 16.5, 16.75, 14.6875, 14.4375, 14.375, 14.75, 15.0625, 14.625, 15.25, 15.875, 16.375, 15.3125, 15.75, 14.5625, 15.625, 16.375, 17.6875, 18.875, 20.8125, 21.6875, 24.25, 24.4375, 24.75, 25.625, 24.25, 25.25, 26.125, 25.625, 29.6875, 30.25, 30.1875, 29.5625, 30.125, 30.125, 28.75, 27.875, 28.25, 29.9375, 29.375, 28.8125, 28.6875, 23.25, 22.25, 21.375, 20.625, 19.6875, 19.375, 19.1875, 19.1875, 20.0, 20.0625, 20.125, 20.375, 21.6875, 20.0625, 20.0625, 21.0, 20.625]\n"
     ]
    }
   ],
   "source": [
    "print (total_preds)"
   ]
  },
  {
   "cell_type": "code",
   "execution_count": 197,
   "metadata": {},
   "outputs": [],
   "source": [
    "submission_format = pd.read_csv('data/submission_format.csv')"
   ]
  },
  {
   "cell_type": "code",
   "execution_count": 198,
   "metadata": {},
   "outputs": [
    {
     "data": {
      "text/html": [
       "<div>\n",
       "<style scoped>\n",
       "    .dataframe tbody tr th:only-of-type {\n",
       "        vertical-align: middle;\n",
       "    }\n",
       "\n",
       "    .dataframe tbody tr th {\n",
       "        vertical-align: top;\n",
       "    }\n",
       "\n",
       "    .dataframe thead th {\n",
       "        text-align: right;\n",
       "    }\n",
       "</style>\n",
       "<table border=\"1\" class=\"dataframe\">\n",
       "  <thead>\n",
       "    <tr style=\"text-align: right;\">\n",
       "      <th></th>\n",
       "      <th>city</th>\n",
       "      <th>year</th>\n",
       "      <th>weekofyear</th>\n",
       "      <th>total_cases</th>\n",
       "    </tr>\n",
       "  </thead>\n",
       "  <tbody>\n",
       "    <tr>\n",
       "      <td>0</td>\n",
       "      <td>sj</td>\n",
       "      <td>2008</td>\n",
       "      <td>18</td>\n",
       "      <td>0</td>\n",
       "    </tr>\n",
       "    <tr>\n",
       "      <td>1</td>\n",
       "      <td>sj</td>\n",
       "      <td>2008</td>\n",
       "      <td>19</td>\n",
       "      <td>0</td>\n",
       "    </tr>\n",
       "    <tr>\n",
       "      <td>2</td>\n",
       "      <td>sj</td>\n",
       "      <td>2008</td>\n",
       "      <td>20</td>\n",
       "      <td>0</td>\n",
       "    </tr>\n",
       "    <tr>\n",
       "      <td>3</td>\n",
       "      <td>sj</td>\n",
       "      <td>2008</td>\n",
       "      <td>21</td>\n",
       "      <td>0</td>\n",
       "    </tr>\n",
       "    <tr>\n",
       "      <td>4</td>\n",
       "      <td>sj</td>\n",
       "      <td>2008</td>\n",
       "      <td>22</td>\n",
       "      <td>0</td>\n",
       "    </tr>\n",
       "  </tbody>\n",
       "</table>\n",
       "</div>"
      ],
      "text/plain": [
       "  city  year  weekofyear  total_cases\n",
       "0   sj  2008          18            0\n",
       "1   sj  2008          19            0\n",
       "2   sj  2008          20            0\n",
       "3   sj  2008          21            0\n",
       "4   sj  2008          22            0"
      ]
     },
     "execution_count": 198,
     "metadata": {},
     "output_type": "execute_result"
    }
   ],
   "source": [
    "submission_format.head()"
   ]
  },
  {
   "cell_type": "code",
   "execution_count": 199,
   "metadata": {},
   "outputs": [],
   "source": [
    "submission_format['total_cases'] = total_preds\n",
    "submission_format['total_cases'] = submission_format['total_cases'].apply(lambda x: int(x))"
   ]
  },
  {
   "cell_type": "code",
   "execution_count": 200,
   "metadata": {},
   "outputs": [
    {
     "data": {
      "text/plain": [
       "0     9\n",
       "1     6\n",
       "2     7\n",
       "3     9\n",
       "4    10\n",
       "Name: total_cases, dtype: int64"
      ]
     },
     "execution_count": 200,
     "metadata": {},
     "output_type": "execute_result"
    }
   ],
   "source": [
    "submission_format['total_cases'].head()"
   ]
  },
  {
   "cell_type": "code",
   "execution_count": 201,
   "metadata": {},
   "outputs": [],
   "source": [
    "submission_format.to_csv('submission.csv', index=False)"
   ]
  },
  {
   "cell_type": "markdown",
   "metadata": {},
   "source": [
    "# c. Approach"
   ]
  },
  {
   "cell_type": "markdown",
   "metadata": {},
   "source": [
    "To predict the number of dengue cases each week, we relied on traditional regression and count regression models, such as the Linear Regression with regularization and rounded our answer to the nearest integer, as well as Negative Binomial and Poisson regression models.\n",
    "\n",
    "As most of the 'good' features (features which were correlated with the total number of dengue cases) in the Iquitos dataset were present in the San Juan dataset, we use an arbitrary correlation threshold of 0.20 (from the Iquitos dataset) to decide which features to use in the prediction of total dengue cases each week.\n",
    "\n",
    "Our metric of choice follows closely to how our prediction will be judged - Mean Absolute Loss. After hyperparameter tuning using KFolds, the best model of each class were evaluated against the cross validation dataset. The model of choice is the Negative Binomial Regression Model as it did the best on the cross validation dataset."
   ]
  },
  {
   "cell_type": "markdown",
   "metadata": {},
   "source": [
    "# d. Answer/Conclusion"
   ]
  },
  {
   "cell_type": "code",
   "execution_count": null,
   "metadata": {},
   "outputs": [],
   "source": []
  }
 ],
 "metadata": {
  "kernelspec": {
   "display_name": "Python 3",
   "language": "python",
   "name": "python3"
  },
  "language_info": {
   "codemirror_mode": {
    "name": "ipython",
    "version": 3
   },
   "file_extension": ".py",
   "mimetype": "text/x-python",
   "name": "python",
   "nbconvert_exporter": "python",
   "pygments_lexer": "ipython3",
   "version": "3.6.0"
  }
 },
 "nbformat": 4,
 "nbformat_minor": 2
}
